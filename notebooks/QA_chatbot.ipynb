{
 "cells": [
  {
   "cell_type": "markdown",
   "metadata": {},
   "source": [
    "# Introduction and Basics of Chatbots and Conversational Agents\n",
    "\n",
    "In this notebook, we work on the following topics:\n",
    "- A direct API call from OpenAI to perform chat completions\n",
    "- Chat completions with Langchain APIs\n",
    "- Using prompt template to create custom prompt\n",
    "- Using output parser to extract key information from the completion\n",
    "\n",
    "We are going to covers samples from the following use case:\n",
    "Travel and Hospitality"
   ]
  },
  {
   "cell_type": "code",
   "execution_count": 4,
   "metadata": {},
   "outputs": [],
   "source": [
    "%load_ext autoreload\n",
    "%autoreload 2\n",
    "import os\n",
    "os.chdir(\"..\")"
   ]
  },
  {
   "cell_type": "code",
   "execution_count": 6,
   "metadata": {},
   "outputs": [],
   "source": [
    "# import openai\n",
    "import pprint\n",
    "\n",
    "# from dotenv import load_dotenv, find_dotenv\n",
    "# _ = load_dotenv(find_dotenv()) # read local .env file\n",
    "# openai.api_key = os.environ['OPENAI_API_KEY']\n",
    "\n",
    "import sys\n",
    "module_dir = os.path.abspath('src')  # Gets the absolute path to the src directory\n",
    "sys.path.append(module_dir)\n",
    "from helper_functions import llm_completion"
   ]
  },
  {
   "cell_type": "code",
   "execution_count": 14,
   "metadata": {},
   "outputs": [],
   "source": [
    "# A function for printing nicely\n",
    "def nprint(text, indent=2):\n",
    "    pp = pprint.PrettyPrinter(indent=indent)\n",
    "    pp.pprint(text)"
   ]
  },
  {
   "cell_type": "markdown",
   "metadata": {},
   "source": [
    "# Loading Parameters"
   ]
  },
  {
   "cell_type": "code",
   "execution_count": 18,
   "metadata": {},
   "outputs": [],
   "source": [
    "modelID = \"gpt-3.5-turbo\""
   ]
  },
  {
   "cell_type": "markdown",
   "metadata": {},
   "source": [
    "# API call from OpenAI"
   ]
  },
  {
   "cell_type": "code",
   "execution_count": 32,
   "metadata": {},
   "outputs": [
    {
     "name": "stdout",
     "output_type": "stream",
     "text": [
      "('Cats have a unique ability called the \"righting reflex\" that allows them to '\n",
      " 'twist their bodies in mid-air to land on their feet when they fall. This '\n",
      " 'reflex is a combination of their flexible spine, inner ear balance, and keen '\n",
      " 'sense of orientation. It helps them to quickly adjust their position and '\n",
      " 'land safely on their feet, minimizing the impact of the fall.')\n"
     ]
    }
   ],
   "source": [
    "question = \"Why do cats always land on their feet?\"\n",
    "completion = llm_completion(question, model=modelID)\n",
    "nprint(completion)"
   ]
  },
  {
   "cell_type": "markdown",
   "metadata": {},
   "source": [
    "## Working on the completion Style and System"
   ]
  },
  {
   "cell_type": "code",
   "execution_count": 33,
   "metadata": {},
   "outputs": [
    {
     "name": "stdout",
     "output_type": "stream",
     "text": [
      "('Cats have a unique ability to consistently land on their feet when falling '\n",
      " 'from a height, a phenomenon known as the \"righting reflex.\" This behavior is '\n",
      " 'a result of their highly developed vestibular system, which includes the '\n",
      " 'inner ear structures responsible for balance and orientation in space.\\n'\n",
      " '\\n'\n",
      " 'When a cat falls, it quickly orients its body to face downward by using its '\n",
      " 'vestibular system to detect changes in position and acceleration. This '\n",
      " \"triggers a series of rapid and coordinated movements in the cat's body, \"\n",
      " 'including twisting of the spine and limbs, to reposition itself in mid-air '\n",
      " 'and land on its feet.\\n'\n",
      " '\\n'\n",
      " 'Additionally, cats have a flexible skeletal structure and a specialized '\n",
      " 'collarbone that allows them to twist their bodies mid-air without losing '\n",
      " 'balance. This agility, combined with their keen sense of spatial awareness '\n",
      " 'and reflexes, enables cats to consistently land on their feet and minimize '\n",
      " 'the impact of a fall.\\n'\n",
      " '\\n'\n",
      " 'It is important to note that while cats have a remarkable ability to land on '\n",
      " 'their feet, they are still susceptible to injuries from high falls, '\n",
      " 'especially if the height is significant. Owners should take precautions to '\n",
      " 'prevent their cats from falling from heights to ensure their safety and '\n",
      " 'well-being.')\n"
     ]
    }
   ],
   "source": [
    "sys_content = \"You are a technical expert in Animal Physiology and explain everything in scientific terms.\"\n",
    "completion = llm_completion(question, model=modelID, sys_content=sys_content)\n",
    "nprint(completion)"
   ]
  },
  {
   "cell_type": "markdown",
   "metadata": {},
   "source": [
    "Now lets change the style of the answer"
   ]
  },
  {
   "cell_type": "code",
   "execution_count": 37,
   "metadata": {},
   "outputs": [
    {
     "name": "stdout",
     "output_type": "stream",
     "text": [
      "Why do cats always land on their feet? \n",
      "The answer must be understabdable for a 5 year old child.\n",
      "\n",
      "('Cats have a special ability called the \"righting reflex\" that helps them '\n",
      " 'land on their feet when they fall. This reflex is a combination of their '\n",
      " 'flexible spine, strong muscles, and keen sense of balance. When a cat falls, '\n",
      " 'it quickly twists its body in mid-air to orient itself upright before '\n",
      " 'landing on its feet. This helps them avoid injury and land safely on the '\n",
      " 'ground. So, cats are like little acrobats who can always land on their feet!')\n"
     ]
    }
   ],
   "source": [
    "style = \"The answer must be understabdable for a 5 year old child.\"\n",
    "prompt = f\"\"\"{question} \n",
    "{style}\n",
    "\"\"\"\n",
    "print(prompt)\n",
    "\n",
    "completion = llm_completion(prompt, model=modelID, sys_content=sys_content)\n",
    "nprint(completion)"
   ]
  },
  {
   "cell_type": "markdown",
   "metadata": {},
   "source": [
    "Let's make it even more simpler for the child"
   ]
  },
  {
   "cell_type": "code",
   "execution_count": 38,
   "metadata": {},
   "outputs": [
    {
     "name": "stdout",
     "output_type": "stream",
     "text": [
      "('Well, you see, cats have a special superpower called \"cat magic\" that helps '\n",
      " \"them twist their bodies in the air and land on their feet. It's like they \"\n",
      " 'have a secret cat trampoline hidden inside them! So, no matter how high they '\n",
      " 'fall from, they always end up on their paws. Cats are just really good at '\n",
      " 'acrobatics!')\n"
     ]
    }
   ],
   "source": [
    "sys_content = \"You are a cool 5 years old child with funny sense of humor.\"\n",
    "\n",
    "completion = llm_completion(prompt, model=modelID, sys_content=sys_content)\n",
    "nprint(completion)"
   ]
  },
  {
   "cell_type": "markdown",
   "metadata": {},
   "source": [
    "Let's make it even more creative by increasing the tempreature of the LLM model to 2.0."
   ]
  },
  {
   "cell_type": "code",
   "execution_count": 39,
   "metadata": {},
   "outputs": [
    {
     "name": "stdout",
     "output_type": "stream",
     "text": [
      "('Because cats are magical creatures with invisible parachutes on their backs '\n",
      " 'that float them down gently whenever they fall! How cool is that? 😺✨🪂')\n"
     ]
    }
   ],
   "source": [
    "completion = llm_completion(prompt, model=modelID, sys_content=sys_content, temperature=2.0)\n",
    "nprint(completion)"
   ]
  },
  {
   "cell_type": "markdown",
   "metadata": {},
   "source": [
    "# Using Langchain APIs to perform chat completions\n",
    "Now we perform the above chat completions using Langchain modules which are more simpler and easier to use.  \n",
    "We use prompt template to create the prompt with different style."
   ]
  },
  {
   "cell_type": "code",
   "execution_count": 8,
   "metadata": {},
   "outputs": [],
   "source": [
    "from langchain.chat_models import ChatOpenAI\n",
    "from langchain.prompts import ChatPromptTemplate"
   ]
  },
  {
   "cell_type": "code",
   "execution_count": 19,
   "metadata": {},
   "outputs": [
    {
     "name": "stderr",
     "output_type": "stream",
     "text": [
      "d:\\Portfolio\\LLMs Applications\\.llmenv\\Lib\\site-packages\\langchain_core\\_api\\deprecation.py:119: LangChainDeprecationWarning: The class `ChatOpenAI` was deprecated in LangChain 0.0.10 and will be removed in 0.3.0. An updated version of the class exists in the langchain-openai package and should be used instead. To use it run `pip install -U langchain-openai` and import as `from langchain_openai import ChatOpenAI`.\n",
      "  warn_deprecated(\n"
     ]
    },
    {
     "name": "stdout",
     "output_type": "stream",
     "text": [
      "input_variables=['question', 'style', 'sys_content'] template='{sys_content}\\nAnswer this following question:  \\n{question} \\nStyle: {style}\\n'\n",
      "['question', 'style', 'sys_content']\n"
     ]
    }
   ],
   "source": [
    "QAchat = ChatOpenAI(temperature=0, model=modelID)\n",
    "template = \"\"\"{sys_content}\n",
    "Answer this following question:  \n",
    "{question} \n",
    "Style: {style}\n",
    "\"\"\"\n",
    "prompt_template = ChatPromptTemplate.from_template(template)\n",
    "print(prompt_template.messages[0].prompt)\n",
    "print(prompt_template.messages[0].prompt.input_variables)"
   ]
  },
  {
   "cell_type": "code",
   "execution_count": 71,
   "metadata": {},
   "outputs": [
    {
     "name": "stdout",
     "output_type": "stream",
     "text": [
      "[HumanMessage(content='You are a cool 5 years old child with funny sense of humor.\\nAnswer this following question:  \\nWhy do cats always land on their feet? \\nStyle: The answer must be understabdable for a 5 year old child.\\n')]\n",
      "The formated prompt is:\n",
      "\n",
      "('You are a cool 5 years old child with funny sense of humor.\\n'\n",
      " 'Answer this following question:  \\n'\n",
      " 'Why do cats always land on their feet? \\n'\n",
      " 'Style: The answer must be understabdable for a 5 year old child.\\n')\n"
     ]
    }
   ],
   "source": [
    "prompt = prompt_template.format_messages(\n",
    "                    sys_content = sys_content,\n",
    "                    style=style,\n",
    "                    question=question)\n",
    "print(prompt)\n",
    "print(\"The formated prompt is:\\n\")\n",
    "nprint(prompt[0].content)"
   ]
  },
  {
   "cell_type": "code",
   "execution_count": 73,
   "metadata": {},
   "outputs": [
    {
     "name": "stdout",
     "output_type": "stream",
     "text": [
      "('Because they have special cat magnets in their paws that help them always '\n",
      " 'land on their feet!')\n"
     ]
    }
   ],
   "source": [
    "completion = QAchat(prompt)\n",
    "nprint(completion.content)"
   ]
  },
  {
   "cell_type": "markdown",
   "metadata": {},
   "source": [
    "# Using output parser\n",
    "Here we use output parser to extract key information from the completion.  \n",
    "We define a custom format instructions to let LLM know what information must be extracted from the completion.\n",
    "We need this information to be extracted as a JSON object, so we can use it as a dictionary.\n",
    "\n",
    "**Use case**: Travel and Hospitality"
   ]
  },
  {
   "cell_type": "code",
   "execution_count": 23,
   "metadata": {},
   "outputs": [],
   "source": [
    "from langchain.output_parsers import ResponseSchema\n",
    "from langchain.output_parsers import StructuredOutputParser"
   ]
  },
  {
   "cell_type": "markdown",
   "metadata": {},
   "source": [
    "Here is a sample query from the user from which we extract the key information about the trip."
   ]
  },
  {
   "cell_type": "code",
   "execution_count": 12,
   "metadata": {},
   "outputs": [],
   "source": [
    "customer_query = \"\"\"\\\n",
    "We're planning a family vacation to Hawaii in December. \\\n",
    "We need recommendations for family-friendly hotels and activities suitable for kids. \\\n",
    "Also, any travel advisories we should be aware of?\\\n",
    "Our budget for the entire trip is around $5000.\n",
    "\"\"\""
   ]
  },
  {
   "cell_type": "markdown",
   "metadata": {},
   "source": [
    "We use ResponseSchema to define how the key information must be extracted from the completion."
   ]
  },
  {
   "cell_type": "code",
   "execution_count": 34,
   "metadata": {},
   "outputs": [
    {
     "name": "stdout",
     "output_type": "stream",
     "text": [
      "The output should be a markdown code snippet formatted in the following schema, including the leading and trailing \"```json\" and \"```\":\n",
      "\n",
      "```json\n",
      "{\n",
      "\t\"destination\": string  // What is the destination of the trip?\n",
      "\t\"travel_date\": string  // When is the trip planned for?\n",
      "\t\"requests\": string  // Extract any specific requests made by the traveler,\n",
      "                                    and output them as a comma separated Python list.\n",
      "\t\"budget\": string  // What is the budget for the entire trip? \n",
      "                                If this information is not found, output -1.\n",
      "}\n",
      "```\n"
     ]
    }
   ],
   "source": [
    "destination_schema = ResponseSchema(name=\"destination\",\n",
    "                             description=\"What is the destination of the trip?\")\n",
    "travel_date_schema = ResponseSchema(name=\"travel_date\",\n",
    "                                      description=\"When is the trip planned for?\")\n",
    "requests_schema = ResponseSchema(name=\"requests\",\n",
    "                                    description=\"\"\"Extract any specific requests made by the traveler,\n",
    "                                    and output them as a comma separated Python list.\"\"\")\n",
    "budget_schema = ResponseSchema(name=\"budget\",\n",
    "                             description=\"\"\"What is the budget for the entire trip? \n",
    "                                If this information is not found, output -1.\"\"\")\n",
    "\n",
    "completion_schemas = [destination_schema, \n",
    "                    travel_date_schema,\n",
    "                    requests_schema,\n",
    "                    budget_schema]\n",
    "output_parser = StructuredOutputParser.from_response_schemas(completion_schemas)        \n",
    "# output_parser\n",
    "format_instructions = output_parser.get_format_instructions()            \n",
    "print(format_instructions)"
   ]
  },
  {
   "cell_type": "code",
   "execution_count": 10,
   "metadata": {},
   "outputs": [
    {
     "name": "stdout",
     "output_type": "stream",
     "text": [
      "input_variables=['query'] messages=[HumanMessagePromptTemplate(prompt=PromptTemplate(input_variables=['query'], template='For the following query, extract the following information:\\n\\ndestination: What is the destination of the trip?\\ntravel_date: When is the trip planned for?\\nrequests: Extract any specific requests made by the traveler,and output them as a comma separated Python list.\\n\\nbudget: What is the budget for the entire trip? If this information is not found, output -1.\\n\\nFormat the output as JSON with the following keys:\\ndestination\\ntravel_date\\nrequests\\nbudget\\n\\nquery: {query}\\n'))]\n"
     ]
    }
   ],
   "source": [
    "vacation_template = \"\"\"\\\n",
    "For the following query, extract the following information:\n",
    "\n",
    "destination: What is the destination of the trip?\\\n",
    "\n",
    "travel_date: When is the trip planned for?\\\n",
    "\n",
    "requests: Extract any specific requests made by the traveler,\\\n",
    "and output them as a comma separated Python list.\n",
    "\n",
    "budget: What is the budget for the entire trip? \\\n",
    "If this information is not found, output -1.\n",
    "\n",
    "Format the output as JSON with the following keys:\n",
    "destination\n",
    "travel_date\n",
    "requests\n",
    "budget\n",
    "\n",
    "query: {query}\n",
    "\n",
    "{format_instructions}\n",
    "\"\"\"\n",
    "prompt_template = ChatPromptTemplate.from_template(vacation_template)\n",
    "print(prompt_template)"
   ]
  },
  {
   "cell_type": "code",
   "execution_count": 15,
   "metadata": {},
   "outputs": [
    {
     "name": "stdout",
     "output_type": "stream",
     "text": [
      "[HumanMessage(content=\"For the following query, extract the following information:\\n\\ndestination: What is the destination of the trip?\\ntravel_date: When is the trip planned for?\\nrequests: Extract any specific requests made by the traveler,and output them as a comma separated Python list.\\n\\nbudget: What is the budget for the entire trip? If this information is not found, output -1.\\n\\nFormat the output as JSON with the following keys:\\ndestination\\ntravel_date\\nrequests\\nbudget\\n\\nquery: We're planning a family vacation to Hawaii in December. We need recommendations for family-friendly hotels and activities suitable for kids. Also, any travel advisories we should be aware of?Our budget for the entire trip is around $5000.\\n\\n\")]\n",
      "The formated prompt is:\n",
      "\n",
      "('For the following query, extract the following information:\\n'\n",
      " '\\n'\n",
      " 'destination: What is the destination of the trip?\\n'\n",
      " 'travel_date: When is the trip planned for?\\n'\n",
      " 'requests: Extract any specific requests made by the traveler,and output them '\n",
      " 'as a comma separated Python list.\\n'\n",
      " '\\n'\n",
      " 'budget: What is the budget for the entire trip? If this information is not '\n",
      " 'found, output -1.\\n'\n",
      " '\\n'\n",
      " 'Format the output as JSON with the following keys:\\n'\n",
      " 'destination\\n'\n",
      " 'travel_date\\n'\n",
      " 'requests\\n'\n",
      " 'budget\\n'\n",
      " '\\n'\n",
      " \"query: We're planning a family vacation to Hawaii in December. We need \"\n",
      " 'recommendations for family-friendly hotels and activities suitable for kids. '\n",
      " 'Also, any travel advisories we should be aware of?Our budget for the entire '\n",
      " 'trip is around $5000.\\n'\n",
      " '\\n')\n"
     ]
    }
   ],
   "source": [
    "prompt = prompt_template.format_messages(query = customer_query)\n",
    "print(prompt)\n",
    "print(\"The formated prompt is:\\n\")\n",
    "nprint(prompt[0].content)"
   ]
  },
  {
   "cell_type": "code",
   "execution_count": 21,
   "metadata": {},
   "outputs": [
    {
     "name": "stderr",
     "output_type": "stream",
     "text": [
      "d:\\Portfolio\\LLMs Applications\\.llmenv\\Lib\\site-packages\\langchain_core\\_api\\deprecation.py:119: LangChainDeprecationWarning: The method `BaseChatModel.__call__` was deprecated in langchain-core 0.1.7 and will be removed in 0.3.0. Use invoke instead.\n",
      "  warn_deprecated(\n"
     ]
    },
    {
     "name": "stdout",
     "output_type": "stream",
     "text": [
      "{\n",
      "    \"destination\": \"Hawaii\",\n",
      "    \"travel_date\": \"December\",\n",
      "    \"requests\": [\"recommendations for family-friendly hotels\", \"recommendations for family-friendly activities suitable for kids\", \"travel advisories\"],\n",
      "    \"budget\": 5000\n",
      "}\n"
     ]
    }
   ],
   "source": [
    "completion = QAchat(prompt)\n",
    "print(completion.content)"
   ]
  }
 ],
 "metadata": {
  "kernelspec": {
   "display_name": ".llmenv",
   "language": "python",
   "name": "python3"
  },
  "language_info": {
   "codemirror_mode": {
    "name": "ipython",
    "version": 3
   },
   "file_extension": ".py",
   "mimetype": "text/x-python",
   "name": "python",
   "nbconvert_exporter": "python",
   "pygments_lexer": "ipython3",
   "version": "3.12.0"
  }
 },
 "nbformat": 4,
 "nbformat_minor": 2
}
