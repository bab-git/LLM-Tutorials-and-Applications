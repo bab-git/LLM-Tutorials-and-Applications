{
 "cells": [
  {
   "cell_type": "markdown",
   "metadata": {},
   "source": [
    "# Using Langchain to generate LLM chains\n",
    "\n",
    "In this notebook, we use Langchain to generate LLM chains.   \n",
    "The goal is to process the input information in several individual steps.  \n",
    "Such processing pipeline reduces the hallucination of LLMs and also lead to more precise and controlable performance.   \n",
    "\n",
    "**We'll cover the following:**\n",
    "- Sequential Chain\n",
    "- Router Chain\n",
    "\n",
    "**Use case:**\n",
    "- Patients symptoms analysis\n"
   ]
  },
  {
   "cell_type": "code",
   "execution_count": 3,
   "metadata": {},
   "outputs": [],
   "source": [
    "import os\n",
    "import pprint\n",
    "\n",
    "from dotenv import load_dotenv, find_dotenv\n",
    "_ = load_dotenv(find_dotenv()) # read local .env file"
   ]
  },
  {
   "cell_type": "code",
   "execution_count": 4,
   "metadata": {},
   "outputs": [],
   "source": [
    "# A function for printing nicely\n",
    "def nprint(text, indent=2):\n",
    "    pp = pprint.PrettyPrinter(indent=indent)\n",
    "    pp.pprint(text)"
   ]
  },
  {
   "cell_type": "markdown",
   "metadata": {},
   "source": [
    "# Loading Parameters"
   ]
  },
  {
   "cell_type": "code",
   "execution_count": 5,
   "metadata": {},
   "outputs": [],
   "source": [
    "modelID = \"gpt-3.5-turbo\""
   ]
  },
  {
   "cell_type": "markdown",
   "metadata": {},
   "source": [
    "# Patient symptoms analysis - Sequential Chain:\n",
    "\n",
    "Based on the patient's input information, we want the language model to make a diagnosis and a recommendation to a practitioner.  \n",
    "As the first try, we do it with a single call to the LLM.\n"
   ]
  },
  {
   "cell_type": "code",
   "execution_count": 6,
   "metadata": {},
   "outputs": [],
   "source": [
    "from langchain_openai import ChatOpenAI\n",
    "llm = ChatOpenAI(temperature=0, model=modelID)\n"
   ]
  },
  {
   "cell_type": "markdown",
   "metadata": {},
   "source": [
    "The chain breakdown is as follows:\n",
    "1. translate the input inquiry to english.\n",
    "2. Symptom Extraction Agent Prompt.\n",
    "3. symptoms categorization.\n",
    "4. summarization and medical recommendation.\n",
    "5. Finding the language of the original inquiry.\n",
    "6. Translating the summary to original language"
   ]
  },
  {
   "cell_type": "markdown",
   "metadata": {},
   "source": [
    "The first chain: Translate the input inquiry to english"
   ]
  },
  {
   "cell_type": "code",
   "execution_count": 16,
   "metadata": {},
   "outputs": [],
   "source": [
    "from langchain.prompts import ChatPromptTemplate\n",
    "# from langchain_core.output_parsers import StrOutputParser\n",
    "from langchain.chains import LLMChain\n",
    "\n",
    "# prompt template 1: translating the input inquiry to english\n",
    "prompt1 = ChatPromptTemplate.from_template(\n",
    "    \"Translate the following patient input from its native language to English while preserving medical terms and symptoms.\"\n",
    "    \"If the input language is in English just give the input inquary to the output.\"\n",
    "    \"\\n\\ninquiry: {inquiry}\"\n",
    ")\n",
    "# chain 1: \n",
    "chain1 = LLMChain(llm=llm, \n",
    "                  prompt=prompt1, \n",
    "                  output_key=\"English_inquiry\"\n",
    "                  )\n",
    "\n"
   ]
  },
  {
   "cell_type": "markdown",
   "metadata": {},
   "source": [
    "The second chain: Symptom Extraction"
   ]
  },
  {
   "cell_type": "code",
   "execution_count": 8,
   "metadata": {},
   "outputs": [],
   "source": [
    "prompt2 = ChatPromptTemplate.from_template(\n",
    "    \"Your role is to identify and extract specific medical symptoms from patient descriptions in the following inquiry.\"\n",
    "    \"Symptoms are the subjective experiences reported by the patient, such as pain, dizziness, or nausea, which indicate a potential health issue.\" \n",
    "    \"Accurate extraction of symptoms is critical for diagnosis and treatment planning.\"    \n",
    "    \"\\n\\nInquiry: {English_inquiry}\"\n",
    ")\n",
    "\n",
    "chain2 = LLMChain(llm=llm, \n",
    "                  prompt=prompt2, \n",
    "                  output_key=\"Symptoms\"\n",
    "                  )"
   ]
  },
  {
   "cell_type": "markdown",
   "metadata": {},
   "source": [
    "The third chain: symptoms categorization"
   ]
  },
  {
   "cell_type": "code",
   "execution_count": 18,
   "metadata": {},
   "outputs": [],
   "source": [
    "prompt3 = ChatPromptTemplate.from_template(\n",
    "    \"As a Symptom Analysis Agent, your role is to analyze the followin list of extracted symptoms and categorize them into relevant medical fields.\"\n",
    "    \"This categorization helps in identifying potential underlying conditions and determining the appropriate medical specialty for further evaluation.\"\n",
    "    \"The medical fields include, but are not limited to, neurology, infectious diseases, cardiology, orthopedics, and gastroenterology\"\n",
    "    \"\\n\\nSymptoms: {Symptoms}\"\n",
    ")\n",
    "\n",
    "chain3 = LLMChain(llm=llm, \n",
    "                  prompt=prompt3, \n",
    "                  output_key=\"categorized_symptoms\"\n",
    "                  )"
   ]
  },
  {
   "cell_type": "markdown",
   "metadata": {},
   "source": [
    "The fourth chain: summarization and medical recommendation"
   ]
  },
  {
   "cell_type": "code",
   "execution_count": 19,
   "metadata": {},
   "outputs": [],
   "source": [
    "prompt4 = ChatPromptTemplate.from_template(\n",
    "    \"As a Medical Summarization Agent, your task is to compile and summarize the symptoms and their categorization into a coherent, concise summary that is easily understandable by a human healthcare practitioner.\"\n",
    "    \"Your summary should accurately reflect the patient's condition, include any pertinent details from the analysis, and provide clear recommendations for the next steps.\" \n",
    "    \"Your ultimate goal is to aid healthcare practitioners in quickly understanding the patient's situation and determining the appropriate course of action.\"\n",
    "    \"\\n\\nCategorized symptoms: {categorized_symptoms}\"\n",
    ")\n",
    "\n",
    "chain4 = LLMChain(llm=llm, \n",
    "                  prompt=prompt4, \n",
    "                  output_key=\"Final_Summary\"\n",
    "                  )"
   ]
  },
  {
   "cell_type": "markdown",
   "metadata": {},
   "source": [
    "The fifth chain: Finding the language of the original inquiry"
   ]
  },
  {
   "cell_type": "code",
   "execution_count": 53,
   "metadata": {},
   "outputs": [],
   "source": [
    "prompt5 = ChatPromptTemplate.from_template(\n",
    "    \"Find the language of the original inquiry.\"    \n",
    "    \"\\n\\noriginal inquary: {inquiry}\"\n",
    ")\n",
    "\n",
    "chain5 = LLMChain(llm=llm,\n",
    "                  prompt=prompt5,\n",
    "                  output_key=\"language\"\n",
    "                  )"
   ]
  },
  {
   "cell_type": "markdown",
   "metadata": {},
   "source": [
    "The sixth chain: Translating the summary to original language"
   ]
  },
  {
   "cell_type": "code",
   "execution_count": 54,
   "metadata": {},
   "outputs": [],
   "source": [
    "prompt6 = ChatPromptTemplate.from_template(\n",
    "    \"Translate this medical summary and recommendaton to the language of the original inquiry.\"    \n",
    "    \"\\n\\n summary: {Final_Summary} \\n\\nlanguage: {language}\"\n",
    ")\n",
    "\n",
    "chain6 = LLMChain(llm=llm, \n",
    "                  prompt=prompt6, \n",
    "                  output_key=\"Translated_final_Summary\"\n",
    "                  )"
   ]
  },
  {
   "cell_type": "markdown",
   "metadata": {},
   "source": [
    "Linking all chains together"
   ]
  },
  {
   "cell_type": "code",
   "execution_count": 58,
   "metadata": {},
   "outputs": [
    {
     "data": {
      "text/plain": [
       "['English_inquiry',\n",
       " 'Symptoms',\n",
       " 'categorized_symptoms',\n",
       " 'Final_Summary',\n",
       " 'language',\n",
       " 'Translated_final_Summary']"
      ]
     },
     "execution_count": 58,
     "metadata": {},
     "output_type": "execute_result"
    }
   ],
   "source": [
    "from langchain.chains import SequentialChain\n",
    "\n",
    "overall_chain = SequentialChain(\n",
    "    chains=[chain1, chain2, chain3, chain4, chain5, chain6],\n",
    "    input_variables=[\"inquiry\"],\n",
    "    output_variables=[\"English_inquiry\", \"Symptoms\", \"categorized_symptoms\", \"Final_Summary\", \"language\", \"Translated_final_Summary\"],\n",
    "    verbose=True\n",
    ")\n",
    "overall_chain.output_variables"
   ]
  },
  {
   "cell_type": "code",
   "execution_count": 59,
   "metadata": {},
   "outputs": [
    {
     "name": "stdout",
     "output_type": "stream",
     "text": [
      "\n",
      "\n",
      "\u001b[1m> Entering new SequentialChain chain...\u001b[0m\n",
      "\n",
      "\u001b[1m> Finished chain.\u001b[0m\n"
     ]
    }
   ],
   "source": [
    "inquiry = \"\"\"\n",
    "Seit einigen Tagen habe ich starke Kopfschmerzen und fühle mich sehr schwach. \\n\n",
    "Ich habe auch hohes Fieber und Schüttelfrost. Außerdem habe ich bemerkt, dass meine Sehkraft sich verschlechtert hat und ich manchmal verschwommen sehe.\\n\n",
    "Meine Gelenke tun weh, besonders in den Knien und Handgelenken, und ich habe Schwierigkeiten, mich zu bewegen.\\n\n",
    "Ich habe auch Übelkeit und manchmal erbreche ich. Mein Appetit ist stark zurückgegangen und ich fühle mich ständig müde.\\n\n",
    "In letzter Zeit habe ich auch leichte Atembeschwerden bemerkt, besonders nachts.\\n \n",
    "Können Sie mir helfen herauszufinden, was mit mir los ist?\n",
    "\"\"\"\n",
    "completion = overall_chain(inquiry)\n",
    "completion"
   ]
  },
  {
   "cell_type": "code",
   "execution_count": 61,
   "metadata": {},
   "outputs": [
    {
     "name": "stdout",
     "output_type": "stream",
     "text": [
      "For a few days now, I have been experiencing severe headaches and feeling very weak.\n",
      "\n",
      "I also have a high fever and chills. Additionally, I have noticed that my vision has deteriorated and I sometimes see things blurry.\n",
      "\n",
      "My joints are painful, especially in my knees and wrists, and I have difficulty moving.\n",
      "\n",
      "I also have nausea and sometimes vomit. My appetite has significantly decreased and I constantly feel tired.\n",
      "\n",
      "Lately, I have also noticed slight difficulty breathing, especially at night.\n",
      "\n",
      "Can you help me figure out what is wrong with me?\n"
     ]
    }
   ],
   "source": [
    "print(completion['English_inquiry'])"
   ]
  },
  {
   "cell_type": "code",
   "execution_count": 62,
   "metadata": {},
   "outputs": [
    {
     "name": "stdout",
     "output_type": "stream",
     "text": [
      "Symptoms identified from the patient description:\n",
      "1. Severe headaches\n",
      "2. Feeling very weak\n",
      "3. High fever\n",
      "4. Chills\n",
      "5. Deteriorated vision\n",
      "6. Blurry vision\n",
      "7. Painful joints (especially in knees and wrists)\n",
      "8. Difficulty moving\n",
      "9. Nausea\n",
      "10. Vomiting\n",
      "11. Decreased appetite\n",
      "12. Constant fatigue\n",
      "13. Slight difficulty breathing (especially at night)\n"
     ]
    }
   ],
   "source": [
    "print(completion['Symptoms'])"
   ]
  },
  {
   "cell_type": "code",
   "execution_count": 63,
   "metadata": {},
   "outputs": [
    {
     "name": "stdout",
     "output_type": "stream",
     "text": [
      "Based on the list of symptoms provided, the categorization into relevant medical fields would be as follows:\n",
      "\n",
      "1. Severe headaches, Deteriorated vision, Blurry vision - Neurology\n",
      "2. Feeling very weak, Constant fatigue - General Medicine/Internal Medicine\n",
      "3. High fever, Chills, Nausea, Vomiting, Decreased appetite - Infectious Diseases\n",
      "4. Painful joints (especially in knees and wrists), Difficulty moving - Orthopedics\n",
      "5. Slight difficulty breathing (especially at night) - Pulmonology/Respiratory Medicine\n",
      "\n",
      "It is important to note that some symptoms may overlap across different medical fields, and a comprehensive evaluation by a healthcare professional is necessary to determine the underlying condition and appropriate treatment plan.\n"
     ]
    }
   ],
   "source": [
    "print(completion['categorized_symptoms'])"
   ]
  },
  {
   "cell_type": "code",
   "execution_count": 64,
   "metadata": {},
   "outputs": [
    {
     "name": "stdout",
     "output_type": "stream",
     "text": [
      "('Summary:\\n'\n",
      " '\\n'\n",
      " 'The patient presents with a range of symptoms spanning multiple medical '\n",
      " 'fields. They are experiencing severe headaches, deteriorated vision, and '\n",
      " 'blurry vision, indicating a potential neurological issue. Additionally, they '\n",
      " 'report feeling very weak, constant fatigue, high fever, chills, nausea, '\n",
      " 'vomiting, decreased appetite, painful joints (especially in knees and '\n",
      " 'wrists), difficulty moving, and slight difficulty breathing (especially at '\n",
      " 'night).\\n'\n",
      " '\\n'\n",
      " 'Given the complexity and variety of symptoms, a thorough evaluation by '\n",
      " 'healthcare professionals in neurology, general medicine/internal medicine, '\n",
      " 'infectious diseases, orthopedics, and pulmonology/respiratory medicine is '\n",
      " 'recommended. Further diagnostic tests and imaging may be necessary to '\n",
      " 'determine the underlying condition and develop an appropriate treatment '\n",
      " \"plan. Immediate medical attention is advised to address the patient's \"\n",
      " 'symptoms and provide necessary care.')\n"
     ]
    }
   ],
   "source": [
    "nprint(completion['Final_Summary'])"
   ]
  },
  {
   "cell_type": "code",
   "execution_count": 66,
   "metadata": {},
   "outputs": [
    {
     "name": "stdout",
     "output_type": "stream",
     "text": [
      "'German'\n",
      "('Zusammenfassung:\\n'\n",
      " '\\n'\n",
      " 'Der Patient zeigt eine Vielzahl von Symptomen, die mehrere medizinische '\n",
      " 'Bereiche betreffen. Er leidet unter starken Kopfschmerzen, verschlechtertem '\n",
      " 'Sehvermögen und verschwommenem Sehen, was auf ein mögliches neurologisches '\n",
      " 'Problem hinweist. Darüber hinaus berichtet er von starker Schwäche, '\n",
      " 'ständiger Müdigkeit, hohem Fieber, Schüttelfrost, Übelkeit, Erbrechen, '\n",
      " 'verminderter Appetit, schmerzhaften Gelenken (insbesondere in den Knien und '\n",
      " 'Handgelenken), Bewegungsschwierigkeiten und leichten Atembeschwerden '\n",
      " '(insbesondere nachts).\\n'\n",
      " '\\n'\n",
      " 'Aufgrund der Komplexität und Vielfalt der Symptome wird eine gründliche '\n",
      " 'Untersuchung durch Fachleute im Bereich Neurologie, Allgemeinmedizin/Innere '\n",
      " 'Medizin, Infektionskrankheiten, Orthopädie und Pulmonologie/Atemwegsmedizin '\n",
      " 'empfohlen. Weitere diagnostische Tests und Bildgebung können erforderlich '\n",
      " 'sein, um die zugrunde liegende Erkrankung festzustellen und einen '\n",
      " 'angemessenen Behandlungsplan zu entwickeln. Eine sofortige medizinische '\n",
      " 'Behandlung wird empfohlen, um die Symptome des Patienten zu behandeln und '\n",
      " 'die notwendige Pflege zu gewährleisten.')\n"
     ]
    }
   ],
   "source": [
    "nprint(completion['language'])\n",
    "nprint(completion['Translated_final_Summary'])"
   ]
  }
 ],
 "metadata": {
  "kernelspec": {
   "display_name": ".llmenv",
   "language": "python",
   "name": "python3"
  },
  "language_info": {
   "codemirror_mode": {
    "name": "ipython",
    "version": 3
   },
   "file_extension": ".py",
   "mimetype": "text/x-python",
   "name": "python",
   "nbconvert_exporter": "python",
   "pygments_lexer": "ipython3",
   "version": "3.12.0"
  }
 },
 "nbformat": 4,
 "nbformat_minor": 2
}
